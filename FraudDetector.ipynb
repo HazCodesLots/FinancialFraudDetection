{
 "cells": [
  {
   "cell_type": "code",
   "execution_count": 50,
   "id": "c98a2c2f-e44b-4558-a84d-41c2a440567c",
   "metadata": {},
   "outputs": [],
   "source": [
    "import pandas as pd\n",
    "import numpy as np\n",
    "from sklearn.model_selection import train_test_split\n",
    "from sklearn.preprocessing import StandardScaler\n",
    "from sklearn.metrics import accuracy_score, precision_score, recall_score, f1_score, confusion_matrix, roc_auc_score"
   ]
  },
  {
   "cell_type": "code",
   "execution_count": 52,
   "id": "be307352-bf26-4f5d-a920-a15cd3941763",
   "metadata": {},
   "outputs": [
    {
     "data": {
      "text/plain": [
       "<bound method NDFrame.head of          step        amount  oldbalanceOrg  newbalanceOrig  oldbalanceDest  \\\n",
       "0           1  9.839640e+03     170136.000   160296.359375    0.000000e+00   \n",
       "1           1  1.864280e+03      21249.000    19384.720703    0.000000e+00   \n",
       "2           1  1.810000e+02        181.000        0.000000    0.000000e+00   \n",
       "3           1  1.810000e+02        181.000        0.000000    2.118200e+04   \n",
       "4           1  1.166814e+04      41554.000    29885.859375    0.000000e+00   \n",
       "...       ...           ...            ...             ...             ...   \n",
       "6362615   743  3.396821e+05     339682.125        0.000000    0.000000e+00   \n",
       "6362616   743  6.311410e+06    6311409.500        0.000000    0.000000e+00   \n",
       "6362617   743  6.311410e+06    6311409.500        0.000000    6.848884e+04   \n",
       "6362618   743  8.500025e+05     850002.500        0.000000    0.000000e+00   \n",
       "6362619   743  8.500025e+05     850002.500        0.000000    6.510099e+06   \n",
       "\n",
       "         newbalanceDest  isFraud  isFlaggedFraud  balance_change_org  \\\n",
       "0                 0.000        0               0       -9.839640e+03   \n",
       "1                 0.000        0               0       -1.864280e+03   \n",
       "2                 0.000        1               0       -1.810000e+02   \n",
       "3                 0.000        1               0       -1.810000e+02   \n",
       "4                 0.000        0               0       -1.166814e+04   \n",
       "...                 ...      ...             ...                 ...   \n",
       "6362615      339682.125        1               0       -3.396821e+05   \n",
       "6362616           0.000        1               0       -6.311410e+06   \n",
       "6362617     6379898.000        1               0       -6.311410e+06   \n",
       "6362618           0.000        1               0       -8.500025e+05   \n",
       "6362619     7360101.500        1               0       -8.500025e+05   \n",
       "\n",
       "         balance_change_dest  transaction_amount  type_CASH_OUT  type_DEBIT  \\\n",
       "0                      0.000        9.839640e+03          False       False   \n",
       "1                      0.000        1.864280e+03          False       False   \n",
       "2                      0.000        1.810000e+02          False       False   \n",
       "3                 -21182.000        1.810000e+02           True       False   \n",
       "4                      0.000        1.166814e+04          False       False   \n",
       "...                      ...                 ...            ...         ...   \n",
       "6362615           339682.125        3.396821e+05           True       False   \n",
       "6362616                0.000        6.311410e+06          False       False   \n",
       "6362617          6311409.500        6.311410e+06           True       False   \n",
       "6362618                0.000        8.500025e+05          False       False   \n",
       "6362619           850002.500        8.500025e+05           True       False   \n",
       "\n",
       "         type_PAYMENT  type_TRANSFER  \n",
       "0                True          False  \n",
       "1                True          False  \n",
       "2               False           True  \n",
       "3               False          False  \n",
       "4                True          False  \n",
       "...               ...            ...  \n",
       "6362615         False          False  \n",
       "6362616         False           True  \n",
       "6362617         False          False  \n",
       "6362618         False           True  \n",
       "6362619         False          False  \n",
       "\n",
       "[6362620 rows x 15 columns]>"
      ]
     },
     "execution_count": 52,
     "metadata": {},
     "output_type": "execute_result"
    }
   ],
   "source": [
    "df = pd.read_csv('D:/Projects/FinanceForgery/Fraud.csv')\n",
    "\n",
    "df['balance_change_org'] = df['newbalanceOrig'] - df['oldbalanceOrg']\n",
    "df['balance_change_dest'] = df['newbalanceDest'] - df['oldbalanceDest']\n",
    "df['transaction_amount'] = df['amount']\n",
    "#Ran out of memory inially, changing to float32\n",
    "df = df.astype({'amount': 'float32', 'oldbalanceOrg': 'float32', 'newbalanceOrig': 'float32',\n",
    "                 'oldbalanceDest': 'float32', 'newbalanceDest': 'float32', 'balance_change_org': 'float32',\n",
    "                 'balance_change_dest': 'float32', 'transaction_amount': 'float32'})\n",
    "\n",
    "df = pd.get_dummies(df, columns=['type'], drop_first=True)\n",
    "df = df.drop(columns=['nameOrig', 'nameDest'])\n",
    "\n",
    "df.head"
   ]
  },
  {
   "cell_type": "code",
   "execution_count": 54,
   "id": "2fca24a8-5b72-461c-baea-270c95dcf5ae",
   "metadata": {},
   "outputs": [],
   "source": [
    "X = df.drop(columns=['isFraud', 'isFlaggedFraud'])\n",
    "y = df['isFraud']\n",
    "\n",
    "X_train, X_test, y_train, y_test = train_test_split(X, y, test_size=0.25, random_state=42)\n",
    "scaler = StandardScaler()\n",
    "X_train_scaled = scaler.fit_transform(X_train)\n",
    "X_test_scaled = scaler.transform(X_test)"
   ]
  },
  {
   "cell_type": "code",
   "execution_count": 56,
   "id": "d65c1406-aa1e-405a-a9b4-23ef04a9c589",
   "metadata": {},
   "outputs": [],
   "source": [
    "import xgboost as xgb\n",
    "model = xgb.XGBClassifier(\n",
    "    objective='binary:logistic',\n",
    "    eval_metric='logloss',\n",
    "    scale_pos_weight=10,\n",
    "    tree_method='hist',\n",
    "    device='cuda',\n",
    "    random_state=42\n",
    ")"
   ]
  },
  {
   "cell_type": "code",
   "execution_count": 60,
   "id": "aa1fa37e-eb07-40db-ac0f-743a07e653b4",
   "metadata": {},
   "outputs": [],
   "source": [
    "model.fit(X_train_scaled, y_train)\n",
    "\n",
    "y_pred = model.predict(X_test_scaled)\n",
    "y_pred_prob = model.predict_proba(X_test_scaled)[:, 1]\n",
    "\n",
    "\n",
    "accuracy = accuracy_score(y_test, y_pred)\n",
    "precision = precision_score(y_test, y_pred)\n",
    "recall = recall_score(y_test, y_pred)\n",
    "f1 = f1_score(y_test, y_pred)\n",
    "confusion_matrix = confusion_matrix(y_test, y_pred)"
   ]
  },
  {
   "cell_type": "code",
   "execution_count": 62,
   "id": "bc6b2587-f3c1-4346-8ebc-78e30c898434",
   "metadata": {},
   "outputs": [
    {
     "name": "stdout",
     "output_type": "stream",
     "text": [
      "Accuracy: 0.9997\n",
      "Precision: 0.8307\n",
      "Recall: 0.9359\n",
      "F1 Score: 0.8802\n",
      "Confusion Matrix:\n",
      " [[1588220     390]\n",
      " [    131    1914]]\n",
      "AUC: 0.9988\n"
     ]
    }
   ],
   "source": [
    "print(f\"Accuracy: {accuracy:.4f}\")\n",
    "print(f\"Precision: {precision:.4f}\")\n",
    "print(f\"Recall: {recall:.4f}\")\n",
    "print(f\"F1 Score: {f1:.4f}\")\n",
    "print(\"Confusion Matrix:\\n\", confusion_matrix)\n",
    "\n",
    "roc_auc = roc_auc_score(y_test, y_pred_prob)\n",
    "print(f\"AUC: {roc_auc:.4f}\")\n"
   ]
  },
  {
   "cell_type": "code",
   "execution_count": null,
   "id": "26f411c6-84cd-49ac-bce0-6a24919971a2",
   "metadata": {},
   "outputs": [],
   "source": []
  }
 ],
 "metadata": {
  "kernelspec": {
   "display_name": "ipykernel",
   "language": "python",
   "name": "ipykernel"
  },
  "language_info": {
   "codemirror_mode": {
    "name": "ipython",
    "version": 3
   },
   "file_extension": ".py",
   "mimetype": "text/x-python",
   "name": "python",
   "nbconvert_exporter": "python",
   "pygments_lexer": "ipython3",
   "version": "3.13.2"
  }
 },
 "nbformat": 4,
 "nbformat_minor": 5
}
